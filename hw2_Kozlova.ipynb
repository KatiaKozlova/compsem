{
  "cells": [
    {
      "cell_type": "markdown",
      "metadata": {
        "id": "oT26dNl8udFv"
      },
      "source": [
        "# Домашнее задание 2. Кластеризация векторного пространства"
      ]
    },
    {
      "cell_type": "code",
      "execution_count": 153,
      "metadata": {
        "id": "fSoStRxjudF7"
      },
      "outputs": [],
      "source": [
        "import wget\n",
        "import zipfile\n",
        "import gensim\n",
        "import numpy as np\n",
        "import matplotlib\n",
        "import matplotlib.pyplot as plt\n",
        "import scipy\n",
        "import scipy.cluster.hierarchy as hcluster\n",
        "\n",
        "from gensim.models.word2vec import Word2Vec\n",
        "from gensim.models import KeyedVectors\n",
        "\n",
        "from sklearn.cluster import KMeans\n",
        "from sklearn.metrics.pairwise import cosine_similarity\n",
        "\n",
        "from typing import List, Dict"
      ]
    },
    {
      "cell_type": "code",
      "execution_count": 2,
      "metadata": {
        "colab": {
          "base_uri": "https://localhost:8080/",
          "height": 35
        },
        "id": "U93blvgoudF8",
        "outputId": "94c29f5b-eb01-4b9c-cae9-bf1141487307"
      },
      "outputs": [
        {
          "output_type": "execute_result",
          "data": {
            "text/plain": [
              "'play.txt'"
            ],
            "application/vnd.google.colaboratory.intrinsic+json": {
              "type": "string"
            }
          },
          "metadata": {},
          "execution_count": 2
        }
      ],
      "source": [
        "wget.download(\"https://raw.githubusercontent.com/dashapopova/CompSem2023/main/HW/HW2_igrat'.txt\", 'play.txt')"
      ]
    },
    {
      "cell_type": "code",
      "execution_count": 85,
      "metadata": {
        "id": "tuhuCpT8udF8"
      },
      "outputs": [],
      "source": [
        "words: List[str] = []\n",
        "with open('play.txt', 'r', encoding='utf-8') as file_play:\n",
        "    for line in file_play:\n",
        "        words.append(line.split()[0].split('_')[1] + '_NOUN')\n",
        "    words.append(line.split()[0].split('_')[0] + '_VERB')"
      ]
    },
    {
      "cell_type": "markdown",
      "source": [
        "### **Пункт №1** - 0.5 балла\n",
        "\n",
        "Взять любую предобученную векторную модель с rusvectores.org и извлечь оттуда вектор для глагола и каждого существительного из списка."
      ],
      "metadata": {
        "id": "xfOVYVrThljI"
      }
    },
    {
      "cell_type": "code",
      "source": [
        "model_url = 'http://vectors.nlpl.eu/repository/20/220.zip'\n",
        "m = wget.download(model_url)\n",
        "model_file = model_url.split('/')[-1]"
      ],
      "metadata": {
        "id": "G1vW0s387L4M"
      },
      "execution_count": 4,
      "outputs": []
    },
    {
      "cell_type": "code",
      "execution_count": 80,
      "metadata": {
        "id": "Fq8Fk81AudF9"
      },
      "outputs": [],
      "source": [
        "vectors: Dict[str, np.ndarray] = {}\n",
        "\n",
        "with zipfile.ZipFile(model_file, 'r') as archive:\n",
        "    stream = archive.open('model.txt')\n",
        "    for line in stream:\n",
        "        line = line.decode()\n",
        "        if line.split()[0] in words:\n",
        "            vectors[line.split()[0]] = np.float_(line.split()[1:])"
      ]
    },
    {
      "cell_type": "code",
      "source": [
        "verb = vectors['играть_VERB']"
      ],
      "metadata": {
        "id": "kC61iaoR1u49"
      },
      "execution_count": 81,
      "outputs": []
    },
    {
      "cell_type": "markdown",
      "source": [
        "### **Пункт №2** - 0.5 балла\n",
        "\n",
        "На основе этих векторов построить репрезентацию для каждой пары «глагол + существительное» с помощью простой аддитивной модели композиции.\n",
        "> Примечание. Если каждый вектор – это объект типа array в модуле numpy, то можно просто сложить эти два объекта, используя оператор «+»."
      ],
      "metadata": {
        "id": "aVKjDqQPhxay"
      }
    },
    {
      "cell_type": "code",
      "source": [
        "vector_summary: Dict[str, np.ndarray] = {}\n",
        "for vector in vectors:\n",
        "    if vector != 'играть_VERB':\n",
        "        vector_summary['играть_' + vector.split('_')[0]] = verb + vectors[vector]"
      ],
      "metadata": {
        "id": "XGw2HBAd4zZA"
      },
      "execution_count": 87,
      "outputs": []
    },
    {
      "cell_type": "code",
      "source": [
        "names = list(vector_summary.keys())"
      ],
      "metadata": {
        "id": "VJL178KD6CSi"
      },
      "execution_count": 88,
      "outputs": []
    },
    {
      "cell_type": "code",
      "source": [
        "X = np.array(list(vector_summary.values()))"
      ],
      "metadata": {
        "id": "rRi1oRx86DU2"
      },
      "execution_count": 118,
      "outputs": []
    },
    {
      "cell_type": "code",
      "source": [
        "def return_clusters(cl, n=names):\n",
        "    clstrs: Dict[int, List[str]] = {}\n",
        "    for i in zip(cl, n):\n",
        "        if i[0] not in clstrs:\n",
        "            clstrs[i[0]] = [i[1]]\n",
        "        else:\n",
        "            clstrs[i[0]].append(i[1])\n",
        "    return dict(sorted(clstrs.items()))"
      ],
      "metadata": {
        "id": "mMeJLeIG9qpG"
      },
      "execution_count": 90,
      "outputs": []
    },
    {
      "cell_type": "markdown",
      "source": [
        "### **Пункт №3 (а)** - 2 балла (по одному за метод и по одному за обоснование выбора порогового значения для иерархической кластеризации)\n",
        "\n",
        "Собрать все векторные представления пар в единую матрицу и кластеризовать их методом иерархической кластеризации.\n",
        "\n",
        "Количество кластеров определяется автоматически (но задается значение порога t).\n",
        "Возьмите то значение параметра, которое вам кажется наиболее удачным и обоснуйте свое решение (одного-двух предложений будет вполне достаточно).\n",
        "Все остальные параметры в обоих случаях можно не менять и использовать настройки по умолчанию."
      ],
      "metadata": {
        "id": "V-2U1W6Hinhl"
      }
    },
    {
      "cell_type": "code",
      "source": [
        "Z = hcluster.linkage(X)\n",
        "plt.figure()\n",
        "dn = hcluster.dendrogram(Z, no_labels=True)\n",
        "plt.show()"
      ],
      "metadata": {
        "colab": {
          "base_uri": "https://localhost:8080/",
          "height": 256
        },
        "id": "bRfBDW7b8D5e",
        "outputId": "302b2158-c50b-44fa-e572-d6b4db4f830d"
      },
      "execution_count": 161,
      "outputs": [
        {
          "output_type": "display_data",
          "data": {
            "text/plain": [
              "<Figure size 432x288 with 1 Axes>"
            ],
            "image/png": "[encoded data removed]"
          },
          "metadata": {
            "needs_background": "light"
          }
        }
      ]
    },
    {
      "cell_type": "code",
      "source": [
        "clusters = hcluster.fcluster(Z, 0.8)\n",
        "print('Estimated number of clusters: %d' % len(set(clusters)))"
      ],
      "metadata": {
        "colab": {
          "base_uri": "https://localhost:8080/"
        },
        "id": "AAvRNiuk8qOS",
        "outputId": "31925904-543e-462d-b997-2e2e8cf46af4"
      },
      "execution_count": 91,
      "outputs": [
        {
          "output_type": "stream",
          "name": "stdout",
          "text": [
            "Estimated number of clusters: 74\n"
          ]
        }
      ]
    },
    {
      "cell_type": "markdown",
      "source": [
        "Если взять число большее или равное 1, кластеров будет 17-. Иначе кластеров будет 74+. Хотелось бы, конечно, какого-то промежуточного варианта, но его, к сожалению, нет. \n",
        "\n",
        "Почему я выбрала второй вариант? При 74-ех кластерах (и значении порога: `t = 0.8-0.99`) у нас есть четкие группы из нескольких элементов: *играть* + время (3), *играть* + световые обозначения (2), *играть* + кино- и театральные реалии (4, 5) и т.д.. Остальные элементы же разводятся в отдельные моногруппы (группы, состоящие из одного элемента).\n",
        "\n",
        "При 17-и кластерах же все эти группки, существовашие при 74-ех кластерах, сгребаются в одну супергруппу (2), что, кажется, совсем не отражает их семантику. Плюс к этому остаются все те же моногруппы."
      ],
      "metadata": {
        "id": "boRaoh0CQDZr"
      }
    },
    {
      "cell_type": "code",
      "source": [
        "return_clusters(clusters)"
      ],
      "metadata": {
        "colab": {
          "base_uri": "https://localhost:8080/"
        },
        "id": "3d7E_Oya99La",
        "outputId": "6f280832-bf80-4916-a78a-3518fcfe7d83"
      },
      "execution_count": 93,
      "outputs": [
        {
          "output_type": "execute_result",
          "data": {
            "text/plain": [
              "{1: ['играть_процесс', 'играть_фактор'],\n",
              " 2: ['играть_свет', 'играть_солнце', 'играть_луч'],\n",
              " 3: ['играть_день', 'играть_ночь', 'играть_вечер', 'играть_утро'],\n",
              " 4: ['играть_актер', 'играть_актриса', 'играть_артист'],\n",
              " 5: ['играть_пьеса', 'играть_спектакль', 'играть_комедия'],\n",
              " 6: ['играть_улыбка', 'играть_румянец'],\n",
              " 7: ['играть_женщина', 'играть_мужчина'],\n",
              " 8: ['играть_кукла', 'играть_игрушка'],\n",
              " 9: ['играть_дитя',\n",
              "  'играть_спартак',\n",
              "  'играть_трубач',\n",
              "  'играть_гамлет',\n",
              "  'играть_гармонь',\n",
              "  'играть_патефон',\n",
              "  'играть_шарманка',\n",
              "  'играть_прятки',\n",
              "  'играть_моцарт',\n",
              "  'играть_россия',\n",
              "  'играть_мольер',\n",
              "  'играть_молчанка',\n",
              "  'играть_шопен'],\n",
              " 10: ['играть_отец',\n",
              "  'играть_жена',\n",
              "  'играть_мать',\n",
              "  'играть_дочь',\n",
              "  'играть_девушка',\n",
              "  'играть_мальчик',\n",
              "  'играть_девочка',\n",
              "  'играть_старик',\n",
              "  'играть_мама',\n",
              "  'играть_ребята',\n",
              "  'играть_старуха',\n",
              "  'играть_мальчишка',\n",
              "  'играть_ребятишки'],\n",
              " 11: ['играть_скрипка'],\n",
              " 12: ['играть_вальс'],\n",
              " 13: ['играть_брат'],\n",
              " 14: ['играть_трагедия'],\n",
              " 15: ['играть_гамма'],\n",
              " 16: ['играть_музыка', 'играть_джаз'],\n",
              " 17: ['играть_песнь'],\n",
              " 18: ['играть_ребенок'],\n",
              " 19: ['играть_музыкант'],\n",
              " 20: ['играть_дама'],\n",
              " 21: ['играть_собака'],\n",
              " 22: ['играть_любовь'],\n",
              " 23: ['играть_сердце'],\n",
              " 24: ['играть_шахматы'],\n",
              " 25: ['играть_бог'],\n",
              " 26: ['играть_песня'],\n",
              " 27: ['играть_гость'],\n",
              " 28: ['играть_сцена'],\n",
              " 29: ['играть_танец'],\n",
              " 30: ['играть_теннис'],\n",
              " 31: ['играть_оркестр'],\n",
              " 32: ['играть_слово'],\n",
              " 33: ['играть_судьба'],\n",
              " 34: ['играть_студент'],\n",
              " 35: ['играть_рыба'],\n",
              " 36: ['играть_час'],\n",
              " 37: ['играть_свадьба'],\n",
              " 38: ['играть_глаз'],\n",
              " 39: ['играть_марш'],\n",
              " 40: ['играть_кровь'],\n",
              " 41: ['играть_театр'],\n",
              " 42: ['играть_труппа'],\n",
              " 43: ['играть_желание'],\n",
              " 44: ['играть_футбол'],\n",
              " 45: ['играть_рука'],\n",
              " 46: ['играть_вода'],\n",
              " 47: ['играть_умение'],\n",
              " 48: ['играть_мастер'],\n",
              " 49: ['играть_жизнь'],\n",
              " 50: ['играть_звезда'],\n",
              " 51: ['играть_солдат'],\n",
              " 52: ['играть_ветер'],\n",
              " 53: ['играть_раз'],\n",
              " 54: ['играть_человек'],\n",
              " 55: ['играть_лицо'],\n",
              " 56: ['играть_деньги'],\n",
              " 57: ['играть_время'],\n",
              " 58: ['играть_дом'],\n",
              " 59: ['играть_группа'],\n",
              " 60: ['играть_концерт'],\n",
              " 61: ['играть_дело'],\n",
              " 62: ['играть_значение'],\n",
              " 63: ['играть_карта'],\n",
              " 64: ['играть_возможность'],\n",
              " 65: ['играть_орган'],\n",
              " 66: ['играть_король'],\n",
              " 67: ['играть_партия'],\n",
              " 68: ['играть_сила'],\n",
              " 69: ['играть_команда'],\n",
              " 70: ['играть_роль'],\n",
              " 71: ['играть_матч'],\n",
              " 72: ['играть_игра'],\n",
              " 73: ['играть_война'],\n",
              " 74: ['играть_год']}"
            ]
          },
          "metadata": {},
          "execution_count": 93
        }
      ]
    },
    {
      "cell_type": "markdown",
      "source": [
        "### **Пункт №3 (b)** - 2 балла (по одному за метод и по одному за обоснование выбора числа кластеров для метода К-средних)\n",
        "\n",
        "Собрать все векторные представления пар в единую матрицу и кластеризовать их методом К-средних, см. [хендаут](https://github.com/dashapopova/CompSem2022/blob/main/CompSemClustering.ipynb).\n",
        "\n",
        "Количество кластеров определяется автоматически (но задается значение порога t).\n",
        "Возьмите то значение параметра, которое вам кажется наиболее удачным и обоснуйте свое решение (одного-двух предложений будет вполне достаточно).\n",
        "Все остальные параметры в обоих случаях можно не менять и использовать настройки по умолчанию."
      ],
      "metadata": {
        "id": "Jjn6amBqjaqm"
      }
    },
    {
      "cell_type": "code",
      "source": [
        "kmeans = KMeans(n_clusters=23).fit(X)"
      ],
      "metadata": {
        "id": "niRax0HGzsKP"
      },
      "execution_count": 166,
      "outputs": []
    },
    {
      "cell_type": "markdown",
      "source": [
        "Оптимальным кол-вом кластеров мне показалось число 20-25, так как, с одной стороны, групп недостаточно много, чтобы они начали выделяться в отдельные моногруппы (см. проблему иерархической модели), но, с другой стороны достаточно, чтобы избежать супергрупп - больших групп состоящих из разрозненных элементов (видимо, выделенных по остаточному признаку). \n",
        "\n",
        "Я остановилась на числе 23, так как при 25-и кластерах большее число слов отходило в моногруппы, а некоторые правильные группы переходили в супергруппу (9) (т.е. увеличение кол-ва групп не помогало бороться с наличием супергруппы), а при 20-и кластерах также происходил переход некоторых правильных групп в супергруппу (9)."
      ],
      "metadata": {
        "id": "sjbn86P3nXyk"
      }
    },
    {
      "cell_type": "code",
      "source": [
        "return_clusters(kmeans.labels_)"
      ],
      "metadata": {
        "colab": {
          "base_uri": "https://localhost:8080/"
        },
        "id": "gnI9fkhuS4ca",
        "outputId": "36d83438-a5a5-4073-d4ac-41f29a58c59c"
      },
      "execution_count": 167,
      "outputs": [
        {
          "output_type": "execute_result",
          "data": {
            "text/plain": [
              "{0: ['играть_футбол',\n",
              "  'играть_солдат',\n",
              "  'играть_девушка',\n",
              "  'играть_студент',\n",
              "  'играть_мальчик',\n",
              "  'играть_девочка',\n",
              "  'играть_собака',\n",
              "  'играть_мама',\n",
              "  'играть_ребята',\n",
              "  'играть_умение',\n",
              "  'играть_мальчишка',\n",
              "  'играть_ребятишки'],\n",
              " 1: ['играть_время',\n",
              "  'играть_слово',\n",
              "  'играть_партия',\n",
              "  'играть_мастер',\n",
              "  'играть_танец',\n",
              "  'играть_трагедия',\n",
              "  'играть_шахматы',\n",
              "  'играть_скрипка',\n",
              "  'играть_теннис',\n",
              "  'играть_марш',\n",
              "  'играть_кукла',\n",
              "  'играть_игрушка',\n",
              "  'играть_гамма',\n",
              "  'играть_песнь',\n",
              "  'играть_вальс',\n",
              "  'играть_спартак',\n",
              "  'играть_трубач',\n",
              "  'играть_гамлет',\n",
              "  'играть_гармонь',\n",
              "  'играть_патефон',\n",
              "  'играть_шарманка',\n",
              "  'играть_прятки',\n",
              "  'играть_моцарт',\n",
              "  'играть_россия',\n",
              "  'играть_мольер',\n",
              "  'играть_молчанка',\n",
              "  'играть_шопен'],\n",
              " 2: ['играть_роль', 'играть_комедия'],\n",
              " 3: ['играть_ребенок',\n",
              "  'играть_отец',\n",
              "  'играть_брат',\n",
              "  'играть_король',\n",
              "  'играть_жена',\n",
              "  'играть_мать',\n",
              "  'играть_дочь',\n",
              "  'играть_свадьба'],\n",
              " 4: ['играть_жизнь',\n",
              "  'играть_сила',\n",
              "  'играть_глаз',\n",
              "  'играть_любовь',\n",
              "  'играть_сердце',\n",
              "  'играть_кровь',\n",
              "  'играть_желание'],\n",
              " 5: ['играть_год'],\n",
              " 6: ['играть_команда'],\n",
              " 7: ['играть_свет',\n",
              "  'играть_звезда',\n",
              "  'играть_ветер',\n",
              "  'играть_солнце',\n",
              "  'играть_луч'],\n",
              " 8: ['играть_актер', 'играть_актриса', 'играть_артист'],\n",
              " 9: ['играть_час'],\n",
              " 10: ['играть_значение', 'играть_процесс', 'играть_фактор'],\n",
              " 11: ['играть_дом',\n",
              "  'играть_раз',\n",
              "  'играть_рука',\n",
              "  'играть_деньги',\n",
              "  'играть_бог',\n",
              "  'играть_судьба',\n",
              "  'играть_гость',\n",
              "  'играть_старик',\n",
              "  'играть_дама',\n",
              "  'играть_улыбка',\n",
              "  'играть_старуха',\n",
              "  'играть_дитя',\n",
              "  'играть_румянец'],\n",
              " 12: ['играть_матч'],\n",
              " 13: ['играть_театр',\n",
              "  'играть_сцена',\n",
              "  'играть_пьеса',\n",
              "  'играть_спектакль',\n",
              "  'играть_труппа'],\n",
              " 14: ['играть_война'],\n",
              " 15: ['играть_игра'],\n",
              " 16: ['играть_день', 'играть_ночь', 'играть_вечер', 'играть_утро'],\n",
              " 17: ['играть_возможность'],\n",
              " 18: ['играть_человек', 'играть_женщина', 'играть_лицо', 'играть_мужчина'],\n",
              " 19: ['играть_группа',\n",
              "  'играть_песня',\n",
              "  'играть_музыка',\n",
              "  'играть_музыкант',\n",
              "  'играть_концерт',\n",
              "  'играть_оркестр',\n",
              "  'играть_джаз'],\n",
              " 20: ['играть_вода', 'играть_рыба'],\n",
              " 21: ['играть_карта'],\n",
              " 22: ['играть_дело', 'играть_орган']}"
            ]
          },
          "metadata": {},
          "execution_count": 167
        }
      ]
    },
    {
      "cell_type": "markdown",
      "source": [
        "### **Пункт №4** - 1.5 балла (1 балл - определение центров, 0.5 балла - выбор трех элементов, наиболее к ним близких)\n",
        "\n",
        "Для каждого кластера определите центр и выберите по три элемента, наиболее к нему близких (по метрике косинусной близости). Центр можно определить как среднее арифметическое среди всех элементов кластера по каждому измерению (например, с помощью метода numpy.mean). Кластеры, размер которых не превышает двух элементов, не учитывайте совсем."
      ],
      "metadata": {
        "id": "5f_44ix8WPi-"
      }
    },
    {
      "cell_type": "markdown",
      "source": [
        "*Для метода иерархической классификации:*"
      ],
      "metadata": {
        "id": "ySWFEpZrrsti"
      }
    },
    {
      "cell_type": "code",
      "source": [
        "dictionary_clusters_hier = return_clusters(clusters)\n",
        "dictionary_center_cluster: Dict[int, np.ndarray] = {}"
      ],
      "metadata": {
        "id": "Djzzo0yGiFZ-"
      },
      "execution_count": 137,
      "outputs": []
    },
    {
      "cell_type": "code",
      "source": [
        "for cluster_num in dictionary_clusters_hier:\n",
        "    if len(dictionary_clusters_hier[cluster_num]) > 2:\n",
        "        list_vectors_cluster: List[np.ndarray] = []\n",
        "        for name in dictionary_clusters_hier[cluster_num]:\n",
        "            A = X[names.index(name)]\n",
        "            list_vectors_cluster.append(A)\n",
        "        dictionary_center_cluster[cluster_num] = np.mean(np.array(list_vectors_cluster), axis=0)\n",
        "        print(f'{cluster_num}-й центр: {dictionary_center_cluster[cluster_num]}')"
      ],
      "metadata": {
        "id": "BhRyE7m8i8xz"
      },
      "execution_count": null,
      "outputs": []
    },
    {
      "cell_type": "code",
      "source": [
        "center_elements_hier: Dict[int, List[str]] = {}\n",
        "\n",
        "for cluster_num in dictionary_clusters_hier:\n",
        "    if len(dictionary_clusters_hier[cluster_num]) > 2:\n",
        "        cos_results: Dict[str, np.ndarray] = {}\n",
        "        for name in dictionary_clusters_hier[cluster_num]:\n",
        "            A = X[names.index(name)]\n",
        "            result = cosine_similarity(A.reshape(1,-1), dictionary_center_cluster[cluster_num].reshape(1,-1))\n",
        "            cos_results[name] = result[0]\n",
        "        cos_results = dict(sorted(cos_results.items(), key=lambda x: x[1][0], reverse=True))\n",
        "        center_elements_hier[cluster_num] = list(cos_results.keys())[:3]"
      ],
      "metadata": {
        "id": "Z7QxY5ril7_k"
      },
      "execution_count": 145,
      "outputs": []
    },
    {
      "cell_type": "markdown",
      "source": [
        "*Для метода К-средних:*"
      ],
      "metadata": {
        "id": "Mj3KjMdLr892"
      }
    },
    {
      "cell_type": "code",
      "source": [
        "dictionary_clusters_Kmean = return_clusters(kmeans.labels_)"
      ],
      "metadata": {
        "id": "xWkRiSroZ-WT"
      },
      "execution_count": 168,
      "outputs": []
    },
    {
      "cell_type": "code",
      "source": [
        "center_elements_Kmean: Dict[int, List[str]] = {}\n",
        "\n",
        "for cluster_center, cluster_num in zip(kmeans.cluster_centers_, dictionary_clusters_Kmean):\n",
        "    if len(dictionary_clusters_Kmean[cluster_num]) > 2:\n",
        "        cos_results: Dict[str, np.ndarray] = {}\n",
        "        for name in dictionary_clusters_Kmean[cluster_num]:\n",
        "            A = X[names.index(name)]\n",
        "            result = cosine_similarity(A.reshape(1,-1), cluster_center.reshape(1,-1))\n",
        "            cos_results[name] = result[0]\n",
        "        cos_results = dict(sorted(cos_results.items(), key=lambda x: x[1][0], reverse=True))\n",
        "        center_elements_Kmean[cluster_num] = list(cos_results.keys())[:3]\n",
        "        print(f'{cluster_num}-й центр: {cluster_center}')"
      ],
      "metadata": {
        "id": "-n5hXl6STktq"
      },
      "execution_count": null,
      "outputs": []
    },
    {
      "cell_type": "markdown",
      "source": [
        "### **Пункт №5** - 0.5 балла\n",
        "\n",
        "Оформите результат в виде набора групп из трех словосочетаний, например:\n",
        "\n",
        "        идти_дождь, идти_снег, идти_град\n",
        "        идти_часы, идти_время, идти_урок\n",
        "        …"
      ],
      "metadata": {
        "id": "qmCA--1kWWTO"
      }
    },
    {
      "cell_type": "markdown",
      "source": [
        "*Для метода иерархической классификации:*"
      ],
      "metadata": {
        "id": "nzSJS68SsFxz"
      }
    },
    {
      "cell_type": "code",
      "source": [
        "for group in center_elements_hier:\n",
        "    print(', '.join(center_elements_hier[group]))"
      ],
      "metadata": {
        "colab": {
          "base_uri": "https://localhost:8080/"
        },
        "id": "v_8xQTNtm-Uv",
        "outputId": "220169af-875f-43b2-a22b-8cd7f1c08b4f"
      },
      "execution_count": 148,
      "outputs": [
        {
          "output_type": "stream",
          "name": "stdout",
          "text": [
            "играть_луч, играть_свет, играть_солнце\n",
            "играть_утро, играть_вечер, играть_ночь\n",
            "играть_актер, играть_актриса, играть_артист\n",
            "играть_пьеса, играть_спектакль, играть_комедия\n",
            "играть_шопен, играть_молчанка, играть_мольер\n",
            "играть_мальчик, играть_девочка, играть_мама\n"
          ]
        }
      ]
    },
    {
      "cell_type": "markdown",
      "source": [
        "*Для метода К-средних:*"
      ],
      "metadata": {
        "id": "7uSNr3_usCyb"
      }
    },
    {
      "cell_type": "code",
      "source": [
        "for group in center_elements_Kmean:\n",
        "    print(', '.join(center_elements_Kmean[group]))"
      ],
      "metadata": {
        "colab": {
          "base_uri": "https://localhost:8080/"
        },
        "id": "5o5u-OOyWXrU",
        "outputId": "7f021396-ef21-4584-d5d4-1207c047bde3"
      },
      "execution_count": 170,
      "outputs": [
        {
          "output_type": "stream",
          "name": "stdout",
          "text": [
            "играть_мальчишка, играть_ребята, играть_мальчик\n",
            "играть_шопен, играть_молчанка, играть_мольер\n",
            "играть_мать, играть_отец, играть_жена\n",
            "играть_сердце, играть_любовь, играть_желание\n",
            "играть_солнце, играть_луч, играть_свет\n",
            "играть_актер, играть_актриса, играть_артист\n",
            "играть_фактор, играть_процесс, играть_значение\n",
            "играть_старик, играть_старуха, играть_дитя\n",
            "играть_спектакль, играть_пьеса, играть_театр\n",
            "играть_утро, играть_вечер, играть_ночь\n",
            "играть_женщина, играть_мужчина, играть_человек\n",
            "играть_музыкант, играть_джаз, играть_музыка\n"
          ]
        }
      ]
    },
    {
      "cell_type": "markdown",
      "source": [
        "### **Пункт №6** - 1 балл\n",
        "\n",
        "Подготовьте очень краткий (буквально на абзац) анализ результатов. Однородные ли, на ваш взгляд, получились группы? Все ли значения глагола удалось «поймать» и проиллюстрировать?"
      ],
      "metadata": {
        "id": "i0DaOQkxWYLp"
      }
    },
    {
      "cell_type": "markdown",
      "source": [
        "Оба метода справились с выделением группы *играть* + время, *играть* + световые обозначения, *играть* + люди из мира кино / театра и *играть* + обозначения театральных жанров. Также с разной точностью была выделена группа *играть* + семья / дети / люди, где метод иерархической классификации объединил все в одну группу, а метод K-средних разделил на несколько подгрупп (дети, базовые обозначения людей, супруги).\n",
        "\n",
        "Также метод K-средних выделил группу *играть* + обозначения музыкальных реалий и группу, где *играть* является зависимым определением (умение играть, возможность играть, желание играть). Некоторые группы получились вполне логичными, однако выстречались супергруппы: (9) для K-средних; (1) и (11) для иерархической классификации, - и \"выбросы\", как, например, *играть_свадьба* в группе (3) из K-средних.\n",
        "\n",
        "Оба метода не спрравились с выделением, например, музыкальных инструментов, спортивных реалий и детских игр. Так, например, в одной группе оказались *играть_шопен*, *играть_молчанка*, *играть_мольер* и *играть_патефон*. \n",
        "\n",
        "Основной проблемой обоих методов является тонкая грань между недоспецифицированностью (супергруппы) и слишком сильной специфичностью (моногруппы). Стоит отметить, что метод иерархической классификации справился с задачей хуже, чем метод K-средних. Это связано с тем, что иерархия слишком резко проводит грань (17- или сразу 74+ кластеров), поэтому многие группы оказались слишком маленькими и специфичными."
      ],
      "metadata": {
        "id": "-yKTB2I4sUy4"
      }
    }
  ],
  "metadata": {
    "kernelspec": {
      "display_name": "Python 3",
      "language": "python",
      "name": "python3"
    },
    "language_info": {
      "codemirror_mode": {
        "name": "ipython",
        "version": 3
      },
      "file_extension": ".py",
      "mimetype": "text/x-python",
      "name": "python",
      "nbconvert_exporter": "python",
      "pygments_lexer": "ipython3",
      "version": "3.8.3"
    },
    "colab": {
      "provenance": []
    }
  },
  "nbformat": 4,
  "nbformat_minor": 0
}